﻿{
 "metadata": {
  "name": "Taxi Trips Data Loading from S3 to Kinesis-1",
  "kernelspec": {
   "language": "scala",
   "name": "spark2-scala"
  },
  "language_info": {
   "codemirror_mode": "text/x-scala",
   "file_extension": ".scala",
   "mimetype": "text/x-scala",
   "name": "scala",
   "pygments_lexer": "scala"
  }
 },
 "nbformat": 4,
 "nbformat_minor": 2,
 "cells": [
  {
   "cell_type": "markdown",
   "metadata": {},
   "source": "# Load Taxi Trips Data from S3 bucket into Kinesis stream.\n"
  },
  {
   "cell_type": "markdown",
   "metadata": {},
   "source": "### Create an in-memory table for incoming data from S3 bucket\n#### If you have not uploaded the Taxi trips data file to s3 bucket, please do that before executing the next step.\n\n\n## IMPORTANT ⚠️ Make sure to update the 'path' variable to point to the file in the s3 bucket\n(Can be found in Outputs Section of CloudFormation Template)\nexample: `s3://nyctaxitripsbucket***/taxi-trips.csv`"
  },
  {
   "cell_type": "code",
   "execution_count": 2,
   "metadata": {
    "autoscroll": "auto"
   },
   "outputs": [],
   "source": [
    "\n",
    "%flink.ssql(type=update)\n",
    "DROP TABLE IF EXISTS nyc_yellow_taxi_trip_data;\n",
    "\n",
    "CREATE TABLE nyc_yellow_taxi_trip_data(\n",
    "id VARCHAR,\n",
    "vendor_id VARCHAR,\n",
    "pickup_datetime VARCHAR,\n",
    "dropoff_datetime VARCHAR,\n",
    "passenger_count VARCHAR,\n",
    "pickup_longtitude VARCHAR,\n",
    "dropoff_longtitude VARCHAR,\n",
    "pickup_latitude VARCHAR,\n",
    "dropoff_latitude VARCHAR,\n",
    "store_and_fwd_flag VARCHAR(1),\n",
    "gc_distance VARCHAR,\n",
    "trip_duration VARCHAR,\n",
    "google_distance VARCHAR,\n",
    "google_duration VARCHAR\n",
    ")\n",
    "WITH (\n",
    "'connector' = 'filesystem',\n",
    "'path' = 's3://<YOUR_BUCKET>/taxi-trips.csv',\n",
    "'format' = 'csv'   \n",
    ")"
   ]
  },
  {
   "cell_type": "markdown",
   "metadata": {},
   "source": "### Query data from S3 "
  },
  {
   "cell_type": "code",
   "execution_count": 4,
   "metadata": {
    "autoscroll": "auto"
   },
   "outputs": [],
   "source": "%flink.ssql(type=update)\nselect * from nyc_yellow_taxi_trip_data limit 5"
  },
  {
   "cell_type": "markdown",
   "metadata": {},
   "source": "### Create an in-memory table for target kinesis stream\n### Make sure 'stream' and 'region' are correct according to your resources for the workshop"
  },
  {
   "cell_type": "code",
   "execution_count": 6,
   "metadata": {
    "autoscroll": "auto"
   },
   "outputs": [],
   "source": [
    "\n",
    "%flink.ssql(type=update)\n",
    "DROP TABLE IF EXISTS nyc_yellow_taxi_trip_data_stream;\n",
    "CREATE TABLE nyc_yellow_taxi_trip_data_stream (\n",
    "id VARCHAR,\n",
    "vendorId VARCHAR,\n",
    "pickupDate VARCHAR,\n",
    "dropoffDate VARCHAR,\n",
    "passengerCount VARCHAR,\n",
    "pickupLongitude VARCHAR,\n",
    "dropoffLongitude VARCHAR,\n",
    "pickupLatitude VARCHAR,\n",
    "dropoffLatitude VARCHAR,\n",
    "storeAndFwdFlag VARCHAR(1),\n",
    "gcDistance VARCHAR,\n",
    "tripDuration VARCHAR,\n",
    "googleDistance VARCHAR,\n",
    "googleDuration VARCHAR\n",
    ")\n",
    "WITH (\n",
    "'connector' = 'kinesis',\n",
    "'stream' = '<YOUR-STREAM>',\n",
    "'aws.region' = 'us-east-1',\n",
    "'scan.stream.initpos' = 'TRIM_HORIZON',\n",
    "'format' = 'json');\n",
    "\n"
   ]
  },
  {
   "cell_type": "markdown",
   "metadata": {},
   "source": " \n### Start data insertion from S3 into Kinesis Stream using in-memory tables"
  },
  {
   "cell_type": "code",
   "execution_count": 8,
   "metadata": {
    "autoscroll": "auto"
   },
   "outputs": [],
   "source": "%flink.ssql(type=update)\nINSERT INTO nyc_yellow_taxi_trip_data_stream\nSELECT id,\nvendor_id as vendorId,\npickup_datetime as pickupDate,\ndropoff_datetime as dropoffDate,\npassenger_count as passengerCount,\npickup_longtitude as pickupLongitude,\ndropoff_longtitude as dropoffLongitude,\npickup_latitude as pickupLatitude,\ndropoff_latitude as dropoffLatitude,\nstore_and_fwd_flag as storeAndFwdFlag,\ngc_distance as gcDistance,\ntrip_duration as tripDuration,\ngoogle_distance as googleDistance,\ngoogle_duration as googleDuration\nFROM nyc_yellow_taxi_trip_data\n"
  },
  {
   "cell_type": "markdown",
   "metadata": {},
   "source": "### Query Kinesis stream target table to check data is inserted correctly.\n"
  },
  {
   "cell_type": "code",
   "execution_count": 10,
   "metadata": {
    "autoscroll": "auto"
   },
   "outputs": [],
   "source": "%flink.ssql(type=update)\nselect * from nyc_yellow_taxi_trip_data_stream\n"
  },
  {
   "cell_type": "markdown",
   "metadata": {},
   "source": "### &#x23F8; &nbsp;   You can Stop the above paragraph when you have seen results.\n"
  },
  {
   "cell_type": "markdown",
   "metadata": {},
   "source": "### Steps to delete in-memory tables for cleanup purposes."
  },
  {
   "cell_type": "code",
   "execution_count": 13,
   "metadata": {
    "autoscroll": "auto"
   },
   "outputs": [],
   "source": "%flink.ssql(type=update)\ndrop table nyc_yellow_taxi_trip_data\n    "
  },
  {
   "cell_type": "code",
   "execution_count": 14,
   "metadata": {
    "autoscroll": "auto"
   },
   "outputs": [],
   "source": "%flink.ssql(type=update)\ndrop table nyc_yellow_taxi_trip_data_stream"
  },
  {
   "cell_type": "code",
   "execution_count": 15,
   "metadata": {
    "autoscroll": "auto"
   },
   "outputs": [],
   "source": "%flink.ssql\n"
  },
  {
   "cell_type": "code",
   "execution_count": 16,
   "metadata": {
    "autoscroll": "auto"
   },
   "outputs": [],
   "source": "%flink.ssql\n"
  }
 ]
}
